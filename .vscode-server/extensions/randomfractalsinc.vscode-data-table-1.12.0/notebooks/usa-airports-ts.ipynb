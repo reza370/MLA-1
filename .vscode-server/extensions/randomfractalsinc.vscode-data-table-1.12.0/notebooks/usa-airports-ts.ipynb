{
 "cells": [
  {
   "cell_type": "code",
   "execution_count": null,
   "source": [
    "import fs from 'fs';\r\n",
    "const csvString = fs.readFileSync('../data/usa-airports.csv', 'utf-8');\r\n",
    "csvString"
   ],
   "outputs": [],
   "metadata": {}
  },
  {
   "cell_type": "code",
   "execution_count": null,
   "source": [
    "import fs from 'fs';\r\n",
    "const jsonString = fs.readFileSync('../data/usa-airports.json', 'utf-8');\r\n",
    "jsonString"
   ],
   "outputs": [],
   "metadata": {}
  }
 ],
 "metadata": {
  "orig_nbformat": 4,
  "language_info": {
   "name": "typescript",
   "version": "3.7.2",
   "mimetype": "text/typescript",
   "file_extension": ".ts",
   "codemirror_mode": {
    "mode": "typescript",
    "name": "javascript",
    "typescript": true
   }
  },
  "kernelspec": {
   "name": "typescript",
   "display_name": "TypeScript",
   "language": "typescript"
  }
 },
 "nbformat": 4,
 "nbformat_minor": 2
}