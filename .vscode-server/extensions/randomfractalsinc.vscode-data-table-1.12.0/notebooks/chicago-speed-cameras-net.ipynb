{
 "cells": [
  {
   "cell_type": "markdown",
   "source": [
    "# Chicago Speed Cameras .NET Interactive Notebook 📓\r\n",
    "\r\n",
    "Data Source: [Chicago Transportation](https://data.cityofchicago.org/browse?category=Transportation)/[Speed Camera Locations](https://data.cityofchicago.org/Transportation/Speed-Camera-Locations/4i42-qv3h)\r\n",
    "\r\n",
    "See [Chicago Speed Camera Locations](https://observablehq.com/@randomfractals/chicago-speed-camera-locations) Observable Notebook 📓 for map view."
   ],
   "metadata": {}
  },
  {
   "cell_type": "code",
   "execution_count": null,
   "source": [
    "using System.Net.Http;\r\n",
    "var dataUrl = \"https://data.cityofchicago.org/resource/4i42-qv3h.json\";\r\n",
    "var data = await new HttpClient().GetStringAsync(dataUrl);\r\n",
    "data"
   ],
   "outputs": [],
   "metadata": {
    "dotnet_interactive": {
     "language": "csharp"
    }
   }
  }
 ],
 "metadata": {
  "kernelspec": {
   "display_name": ".NET (C#)",
   "language": "C#",
   "name": ".net-csharp"
  },
  "language_info": {
   "file_extension": ".cs",
   "mimetype": "text/x-csharp",
   "name": "C#",
   "pygments_lexer": "csharp",
   "version": "9.0"
  },
  "orig_nbformat": 4
 },
 "nbformat": 4,
 "nbformat_minor": 2
}