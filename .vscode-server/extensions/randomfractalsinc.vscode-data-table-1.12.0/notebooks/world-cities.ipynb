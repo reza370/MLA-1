{
 "cells": [
  {
   "cell_type": "markdown",
   "source": [
    "# World Cities Pyolite Notebook 📓"
   ],
   "metadata": {}
  },
  {
   "cell_type": "code",
   "execution_count": null,
   "source": [
    "from js import fetch\r\n",
    "response = await fetch('https://raw.githubusercontent.com/RandomFractals/vscode-data-table/main/data/world-cities.geojson')\r\n",
    "cities = await response.text()\r\n",
    "cities"
   ],
   "outputs": [],
   "metadata": {}
  }
 ],
 "metadata": {
  "orig_nbformat": 4,
  "language_info": {
   "name": "python"
  }
 },
 "nbformat": 4,
 "nbformat_minor": 2
}