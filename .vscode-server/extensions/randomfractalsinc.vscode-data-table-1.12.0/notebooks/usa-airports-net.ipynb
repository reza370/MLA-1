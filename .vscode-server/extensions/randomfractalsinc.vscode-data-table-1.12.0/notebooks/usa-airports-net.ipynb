{
 "cells": [
  {
   "cell_type": "markdown",
   "source": [
    "# USA Airports Geo .NET Interactive Notebook 📓"
   ],
   "metadata": {}
  },
  {
   "cell_type": "code",
   "execution_count": null,
   "source": [
    "using System.Net.Http;\r\n",
    "var dataUrl = \"https://raw.githubusercontent.com/RandomFractals/vscode-leaflet/main/data/geojson/usa-airports.geojson\";\r\n",
    "var geoJson = await new HttpClient().GetStringAsync(dataUrl);\r\n",
    "geoJson"
   ],
   "outputs": [],
   "metadata": {
    "dotnet_interactive": {
     "language": "csharp"
    }
   }
  }
 ],
 "metadata": {
  "orig_nbformat": 4,
  "language_info": {
   "file_extension": ".cs",
   "mimetype": "text/x-csharp",
   "name": "C#",
   "pygments_lexer": "csharp",
   "version": "9.0"
  },
  "kernelspec": {
   "display_name": ".NET (C#)",
   "language": "C#",
   "name": ".net-csharp"
  }
 },
 "nbformat": 4,
 "nbformat_minor": 2
}