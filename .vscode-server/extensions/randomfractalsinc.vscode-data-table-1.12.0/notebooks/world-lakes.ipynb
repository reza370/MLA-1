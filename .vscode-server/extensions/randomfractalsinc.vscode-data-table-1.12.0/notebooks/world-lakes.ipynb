{
 "cells": [
  {
   "cell_type": "markdown",
   "source": [
    "# World Lakes Pyolite Notebook 📓"
   ],
   "metadata": {}
  },
  {
   "cell_type": "code",
   "execution_count": null,
   "source": [
    "from js import fetch\r\n",
    "response = await fetch('https://raw.githubusercontent.com/RandomFractals/vscode-data-table/main/data/world-lakes.geojson')\r\n",
    "lakes = await response.text()\r\n",
    "lakes"
   ],
   "outputs": [],
   "metadata": {}
  }
 ],
 "metadata": {
  "orig_nbformat": 4,
  "language_info": {
   "name": "python"
  }
 },
 "nbformat": 4,
 "nbformat_minor": 2
}