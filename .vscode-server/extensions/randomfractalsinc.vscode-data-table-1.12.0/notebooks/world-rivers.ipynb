{
 "cells": [
  {
   "cell_type": "markdown",
   "source": [
    "# World Rivers Pyolite Notebook 📓"
   ],
   "metadata": {}
  },
  {
   "cell_type": "code",
   "execution_count": null,
   "source": [
    "from js import fetch\r\n",
    "response = await fetch('https://raw.githubusercontent.com/RandomFractals/vscode-data-table/main/data/world-rivers.geojson')\r\n",
    "rivers = await response.text()\r\n",
    "rivers"
   ],
   "outputs": [],
   "metadata": {}
  }
 ],
 "metadata": {
  "orig_nbformat": 4,
  "language_info": {
   "name": "python"
  }
 },
 "nbformat": 4,
 "nbformat_minor": 2
}