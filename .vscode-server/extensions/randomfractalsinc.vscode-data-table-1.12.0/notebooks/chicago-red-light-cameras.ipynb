{
 "cells": [
  {
   "cell_type": "markdown",
   "source": [
    "# Chicago Red Light Cameras Pyolite Notebook 📓\r\n",
    "\r\n",
    "Designed for testing new [Data Table](https://github.com/RandomFractals/vscode-data-table) vscode notebook cell output renderer with JSON data from [City of Chicago Data Portal](https://data.cityofchicago.org).\r\n",
    "\r\n",
    "Data Source: [Chicago Transportation](https://data.cityofchicago.org/browse?category=Transportation)/[Red Light Camera Locations](https://data.cityofchicago.org/Transportation/Red-Light-Camera-Locations/thvf-6diy)\r\n",
    "\r\n",
    "See [Chicago Red Light Camera Locations](https://observablehq.com/@randomfractals/chicago-red-light-camera-locations) Observable Notebook 📓 for map view."
   ],
   "metadata": {}
  },
  {
   "cell_type": "code",
   "execution_count": null,
   "source": [
    "from js import fetch\r\n",
    "response = await fetch('https://data.cityofchicago.org/resource/thvf-6diy.json')\r\n",
    "jsonData = await response.text()\r\n",
    "jsonData"
   ],
   "outputs": [],
   "metadata": {}
  }
 ],
 "metadata": {
  "orig_nbformat": 4,
  "language_info": {
   "name": "python"
  }
 },
 "nbformat": 4,
 "nbformat_minor": 2
}