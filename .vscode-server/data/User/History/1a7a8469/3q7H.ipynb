{
 "cells": [
  {
   "cell_type": "markdown",
   "metadata": {},
   "source": [
    "ASSIGNMENT NUMBER 1\n",
    "In this assignment, you will solve a problem, i.e., Chaky company makes some car but he has\n",
    "difficulty setting the price for the car. Please make a simple web-based car price prediction system.\n",
    "Note: You are ENCOURAGED to work with your friends, but DISCOURAGED to blindly copy\n",
    "other’s work. Both parties will be given 0.\n",
    "Note: Comments should be provided sufficiently so we know you understand. Failure to do so can\n",
    "raise suspicion of possible copying/plagiarism.\n",
    "Note: You will be graded upon (1) documentation, (2) experiment, (3) implementation.\n",
    "Note: This is a two-weeks assignment, but start early.\n",
    "Deliverables: The GitHub link containing the jupyter notebook, a README.md of the github, and\n",
    "the folder of your web application called ‘app’.\n",
    "\n",
    "***************************************************************************************************\n",
    "\n",
    "Task 1. Preparing the datasets\n",
    "Download the Car Price dataset from Google classroom. \n",
    "Perform loading, \n",
    "EDA, \n",
    "preprocessing,\n",
    "model selection, · · · , inference.\n",
    "\n",
    "There are some important coding considerations:\n",
    "• For the feature owner, map First owner to 1, ..., Test Drive Car to 5\n",
    "• For the feature fuel, remove all rows with CNG and LPG because CNG and LPG use a different\n",
    "mileage system i.e., km/kg which is different from kmfeaturepl for Diesel and Petrol \n",
    "• For the feature mileage, remove “kmpl” and convert the column to numerical type (e.g., float). Hint: use\n",
    "df.mileage.str.split\n",
    "• For the feature engine, remove “CC” and convert the column to numerical type (e.g., float)\n",
    "• Do the same for max power\n",
    "• For the feature brand, take only the first word and remove the rest\n",
    "• Drop the feature torque, simply because Chaky’s company does not understand well about it \n",
    "• You will found out that Test Drive Cars are ridiculously expensive. Since we do not want to involve\n",
    "  this, we will simply delete all samples related to it.\n",
    "• Since selling price is a big number, it can cause your prediction to be very unstable. One trick is\n",
    "  to first transform the label using log transform, i.e., y = np.log(df['selling_price'])\n",
    "• During inference/testing, you have to transform your predicted y backed before comparing with y\n",
    "test, i.e., pred_y = np.exp(pred_y)\n",
    "\n",
    "**********************************************************************************************\n",
    "\n",
    "Task 2. Report - In the end of the notebook, please write a 2-3 paragraphs summary deeply\n",
    "discussing and analysing the results. Possible points of discussion:\n",
    "• Which features are important? Which are not? Why?\n",
    "• Which algorithm performs well? Which does not? Why? (here, you haven’t learned about any\n",
    "algorithms yet, but you can search online a bit and start building an intuition)\n",
    "\n",
    "**********************************************************************************************\n",
    "\n",
    "Task 3. Deployment - Develop a web-based application that contains the model. Here you will be\n",
    "tasked to self-study how to deploy the model into production. Here are some guidelines: Here you\n",
    "have multiple options. Those who are veteran web developer may prefer their own web app stack\n",
    "which is welcomed. For those who are new to this realm, you may consider a simpler/one-stop\n",
    "solution rather than learning the traditional/flexible approach.\n",
    "The goal of this task is to expose/deploy our model for public use via the web interface. The main\n",
    "scenario is the following:\n",
    "1) Users enter the domain on their browser. They land on your page.\n",
    "2) (optional) Users may need to navigate to a prediction page.\n",
    "3) Users read the instruction given on the page that instructs them on how the prediction\n",
    "works. 4) Users find the input form, put in the appropriate data, and click submit.\n",
    "5) Note that if users do not have information on certain field, you have to allow users to skip that\n",
    "field. In that case, we recommend you to fill the missing field with imputation technique you\n",
    "have learned in the class.\n",
    "6) A moment later (depending on your model and hardware performance), the result is returned\n",
    "and printed below the form.\n",
    "Deploying aside, the app should work on the local environment (your machine) first. I would suggest\n",
    "you use ‘Dash’ by ‘Plotly’ https://dash.plotly.com/ as a one-stop solution. Spend time studying the\n",
    "‘Quick Start’ tutorial on the site and also ‘Dash Fundamental’. They are essential for you to know how\n",
    "‘Dash’ works.\n",
    "The deliverable for the app would be, in GitHub, you have a folder ‘app’ with ‘.Dockerfile’, ‘docker\n",
    "compose.yaml’ files, and ‘code’ folder.\n",
    "Bootstrap: I know Dockerizing the app could be difficult for newcomers, you will get confused when\n",
    "searching for stuff online, especially, when you just trust ChatGPT to give you the right answer. So, for\n",
    "those who want to postpone the process of learning “Docker”, here is the Dockerized Dash project\n",
    "link. Don’t worry, you will eventually need to do this yourself in this shortcoming weeks. You can not\n",
    "escape this."
   ]
  },
  {
   "cell_type": "code",
   "execution_count": null,
   "metadata": {},
   "outputs": [],
   "source": [
    "import pandas as pn\n",
    "df_cars=pn.read_csv('Cars.csv')"
   ]
  },
  {
   "cell_type": "code",
   "execution_count": null,
   "metadata": {},
   "outputs": [],
   "source": [
    "df_cars.columns"
   ]
  },
  {
   "cell_type": "code",
   "execution_count": null,
   "metadata": {},
   "outputs": [],
   "source": [
    "df_cars.shape"
   ]
  },
  {
   "cell_type": "code",
   "execution_count": null,
   "metadata": {},
   "outputs": [],
   "source": [
    "df_cars.head()"
   ]
  },
  {
   "cell_type": "markdown",
   "metadata": {},
   "source": [
    "# coding feature \"owner\": First Owner --> 1, Second Owner --> 2, Third owner --> 3, Fourth & Above Owner --> 4, Test Drive Car --> 5 "
   ]
  },
  {
   "cell_type": "code",
   "execution_count": null,
   "metadata": {},
   "outputs": [],
   "source": [
    "owner_coding = {\n",
    "    'First Owner': 1,\n",
    "    'Second Owner': 2,\n",
    "    'Third Owner': 3,\n",
    "    'Fourth & Above Owner': 4,\n",
    "    'Test Drive Car': 5\n",
    "}\n",
    "\n",
    "df_cars['owner'] = df_cars['owner'].map(owner_coding)"
   ]
  },
  {
   "cell_type": "markdown",
   "metadata": {},
   "source": [
    "# Remove rows with fuel values 'CNG' or 'LPG'"
   ]
  },
  {
   "cell_type": "code",
   "execution_count": null,
   "metadata": {},
   "outputs": [],
   "source": [
    "df_cars = df_cars[df_cars['fuel'].isin(['Petrol', 'Diesel'])]"
   ]
  },
  {
   "cell_type": "markdown",
   "metadata": {},
   "source": [
    "# For the feature mileage, remove “kmpl” and convert the column to numerical type (e.g., float). \n",
    "# For the feature engine, remove “CC” and convert the column to numerical type (e.g., float)\n",
    "# Do the same for max power"
   ]
  },
  {
   "cell_type": "code",
   "execution_count": null,
   "metadata": {},
   "outputs": [],
   "source": [
    "df_cars.mileage=df_cars.mileage.str.split(expand=True)[0].astype(float)"
   ]
  },
  {
   "cell_type": "code",
   "execution_count": null,
   "metadata": {},
   "outputs": [],
   "source": [
    "df_cars.engine=df_cars.engine.str.split(expand=True)[0].astype(float)"
   ]
  },
  {
   "cell_type": "code",
   "execution_count": null,
   "metadata": {},
   "outputs": [],
   "source": [
    "\n",
    "df_cars['max_power'] = df_cars['max_power'].str.replace(' bhp','')\n",
    "df_cars.max_power=df_cars.max_power.astype(float)"
   ]
  },
  {
   "cell_type": "markdown",
   "metadata": {},
   "source": [
    "Taking only the first word and removing the rest For the feature brand"
   ]
  },
  {
   "cell_type": "code",
   "execution_count": null,
   "metadata": {},
   "outputs": [],
   "source": [
    "df_cars.name=df_cars.name.str.split(expand=True)[0]"
   ]
  },
  {
   "cell_type": "markdown",
   "metadata": {},
   "source": [
    "Drop the feature torque, simply because Chaky’s company does not understand well about it"
   ]
  },
  {
   "cell_type": "code",
   "execution_count": null,
   "metadata": {},
   "outputs": [],
   "source": [
    "df_cars = df_cars.drop(columns=['torque'])"
   ]
  },
  {
   "cell_type": "markdown",
   "metadata": {},
   "source": [
    "You will found out that Test Drive Cars are ridiculously expensive. Since we do not want to involve\n",
    "  this, we will simply delete all samples related to it."
   ]
  },
  {
   "cell_type": "code",
   "execution_count": null,
   "metadata": {},
   "outputs": [],
   "source": [
    "df_cars = df_cars[df_cars['owner'] != 5]"
   ]
  },
  {
   "cell_type": "markdown",
   "metadata": {},
   "source": [
    "Since selling price is a big number, it can cause your prediction to be very unstable. One trick is\n",
    "  to first transform the label using log transform, i.e., y = np.log(df['selling_price'])"
   ]
  },
  {
   "cell_type": "code",
   "execution_count": null,
   "metadata": {},
   "outputs": [],
   "source": [
    "import numpy as np\n",
    "df_cars['selling_price'] = np.log(df_cars['selling_price'])"
   ]
  },
  {
   "cell_type": "code",
   "execution_count": null,
   "metadata": {},
   "outputs": [],
   "source": [
    "df_cars"
   ]
  },
  {
   "cell_type": "code",
   "execution_count": null,
   "metadata": {},
   "outputs": [],
   "source": [
    "df_cars.info()"
   ]
  },
  {
   "cell_type": "code",
   "execution_count": null,
   "metadata": {},
   "outputs": [],
   "source": [
    "\n",
    "df_cars.engine=df_cars.engine.astype(float)\n"
   ]
  }
 ],
 "metadata": {
  "kernelspec": {
   "display_name": "Python 3",
   "language": "python",
   "name": "python3"
  },
  "language_info": {
   "codemirror_mode": {
    "name": "ipython",
    "version": 3
   },
   "file_extension": ".py",
   "mimetype": "text/x-python",
   "name": "python",
   "nbconvert_exporter": "python",
   "pygments_lexer": "ipython3",
   "version": "3.11.5"
  },
  "orig_nbformat": 4
 },
 "nbformat": 4,
 "nbformat_minor": 2
}
