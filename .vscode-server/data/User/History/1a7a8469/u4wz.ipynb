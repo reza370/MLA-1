{
 "cells": [
  {
   "cell_type": "markdown",
   "metadata": {},
   "source": [
    "ASSIGNMENT NUMBER 1\n",
    "In this assignment, you will solve a problem, i.e., Chaky company makes some car but he has\n",
    "difficulty setting the price for the car. Please make a simple web-based car price prediction system.\n",
    "Note: You are ENCOURAGED to work with your friends, but DISCOURAGED to blindly copy\n",
    "other’s work. Both parties will be given 0.\n",
    "Note: Comments should be provided sufficiently so we know you understand. Failure to do so can\n",
    "raise suspicion of possible copying/plagiarism.\n",
    "Note: You will be graded upon (1) documentation, (2) experiment, (3) implementation.\n",
    "Note: This is a two-weeks assignment, but start early.\n",
    "Deliverables: The GitHub link containing the jupyter notebook, a README.md of the github, and\n",
    "the folder of your web application called ‘app’.\n",
    "\n",
    "***************************************************************************************************\n",
    "\n",
    "Task 1. Preparing the datasets\n",
    "Download the Car Price dataset from Google classroom. \n",
    "Perform loading, \n",
    "EDA, \n",
    "preprocessing,\n",
    "model selection, · · · , inference.\n",
    "\n",
    "There are some important coding considerations:\n",
    "• For the feature owner, map First owner to 1, ..., Test Drive Car to 5\n",
    "• For the feature fuel, remove all rows with CNG and LPG because CNG and LPG use a different\n",
    "mileage system i.e., km/kg which is different from kmfeaturepl for Diesel and Petrol \n",
    "• For the feature mileage, remove “kmpl” and convert the column to numerical type (e.g., float). Hint: use\n",
    "df.mileage.str.split\n",
    "• For the feature engine, remove “CC” and convert the column to numerical type (e.g., float)\n",
    "• Do the same for max power\n",
    "• For the feature brand, take only the first word and remove the rest\n",
    "• Drop the feature torque, simply because Chaky’s company does not understand well about it \n",
    "• You will found out that Test Drive Cars are ridiculously expensive. Since we do not want to involve\n",
    "  this, we will simply delete all samples related to it.\n",
    "• Since selling price is a big number, it can cause your prediction to be very unstable. One trick is\n",
    "  to first transform the label using log transform, i.e., y = np.log(df['selling_price'])\n",
    "• During inference/testing, you have to transform your predicted y backed before comparing with y\n",
    "test, i.e., pred_y = np.exp(pred_y)\n",
    "\n",
    "**********************************************************************************************\n",
    "\n",
    "Task 2. Report - In the end of the notebook, please write a 2-3 paragraphs summary deeply\n",
    "discussing and analysing the results. Possible points of discussion:\n",
    "• Which features are important? Which are not? Why?\n",
    "• Which algorithm performs well? Which does not? Why? (here, you haven’t learned about any\n",
    "algorithms yet, but you can search online a bit and start building an intuition)\n",
    "\n",
    "**********************************************************************************************\n",
    "\n",
    "Task 3. Deployment - Develop a web-based application that contains the model. Here you will be\n",
    "tasked to self-study how to deploy the model into production. Here are some guidelines: Here you\n",
    "have multiple options. Those who are veteran web developer may prefer their own web app stack\n",
    "which is welcomed. For those who are new to this realm, you may consider a simpler/one-stop\n",
    "solution rather than learning the traditional/flexible approach.\n",
    "The goal of this task is to expose/deploy our model for public use via the web interface. The main\n",
    "scenario is the following:\n",
    "1) Users enter the domain on their browser. They land on your page.\n",
    "2) (optional) Users may need to navigate to a prediction page.\n",
    "3) Users read the instruction given on the page that instructs them on how the prediction\n",
    "works. 4) Users find the input form, put in the appropriate data, and click submit.\n",
    "5) Note that if users do not have information on certain field, you have to allow users to skip that\n",
    "field. In that case, we recommend you to fill the missing field with imputation technique you\n",
    "have learned in the class.\n",
    "6) A moment later (depending on your model and hardware performance), the result is returned\n",
    "and printed below the form.\n",
    "Deploying aside, the app should work on the local environment (your machine) first. I would suggest\n",
    "you use ‘Dash’ by ‘Plotly’ https://dash.plotly.com/ as a one-stop solution. Spend time studying the\n",
    "‘Quick Start’ tutorial on the site and also ‘Dash Fundamental’. They are essential for you to know how\n",
    "‘Dash’ works.\n",
    "The deliverable for the app would be, in GitHub, you have a folder ‘app’ with ‘.Dockerfile’, ‘docker\n",
    "compose.yaml’ files, and ‘code’ folder.\n",
    "Bootstrap: I know Dockerizing the app could be difficult for newcomers, you will get confused when\n",
    "searching for stuff online, especially, when you just trust ChatGPT to give you the right answer. So, for\n",
    "those who want to postpone the process of learning “Docker”, here is the Dockerized Dash project\n",
    "link. Don’t worry, you will eventually need to do this yourself in this shortcoming weeks. You can not\n",
    "escape this."
   ]
  },
  {
   "cell_type": "markdown",
   "metadata": {},
   "source": [
    "Loading the data set:"
   ]
  },
  {
   "cell_type": "code",
   "execution_count": 38,
   "metadata": {},
   "outputs": [],
   "source": [
    "import pandas as pd\n",
    "df_cars=pd.read_csv('Cars.csv')"
   ]
  },
  {
   "cell_type": "markdown",
   "metadata": {},
   "source": [
    "Checking the created data set: (number of samples (rows), number of variables (columns), column names):"
   ]
  },
  {
   "cell_type": "code",
   "execution_count": 39,
   "metadata": {},
   "outputs": [
    {
     "data": {
      "text/plain": [
       "(8128, 13)"
      ]
     },
     "execution_count": 39,
     "metadata": {},
     "output_type": "execute_result"
    }
   ],
   "source": [
    "df_cars.shape"
   ]
  },
  {
   "cell_type": "code",
   "execution_count": 40,
   "metadata": {},
   "outputs": [
    {
     "data": {
      "text/plain": [
       "Index(['name', 'year', 'selling_price', 'km_driven', 'fuel', 'seller_type',\n",
       "       'transmission', 'owner', 'mileage', 'engine', 'max_power', 'torque',\n",
       "       'seats'],\n",
       "      dtype='object')"
      ]
     },
     "execution_count": 40,
     "metadata": {},
     "output_type": "execute_result"
    }
   ],
   "source": [
    "df_cars.columns"
   ]
  },
  {
   "cell_type": "code",
   "execution_count": 41,
   "metadata": {},
   "outputs": [
    {
     "data": {
      "text/html": [
       "<div>\n",
       "<style scoped>\n",
       "    .dataframe tbody tr th:only-of-type {\n",
       "        vertical-align: middle;\n",
       "    }\n",
       "\n",
       "    .dataframe tbody tr th {\n",
       "        vertical-align: top;\n",
       "    }\n",
       "\n",
       "    .dataframe thead th {\n",
       "        text-align: right;\n",
       "    }\n",
       "</style>\n",
       "<table border=\"1\" class=\"dataframe\">\n",
       "  <thead>\n",
       "    <tr style=\"text-align: right;\">\n",
       "      <th></th>\n",
       "      <th>name</th>\n",
       "      <th>year</th>\n",
       "      <th>selling_price</th>\n",
       "      <th>km_driven</th>\n",
       "      <th>fuel</th>\n",
       "      <th>seller_type</th>\n",
       "      <th>transmission</th>\n",
       "      <th>owner</th>\n",
       "      <th>mileage</th>\n",
       "      <th>engine</th>\n",
       "      <th>max_power</th>\n",
       "      <th>torque</th>\n",
       "      <th>seats</th>\n",
       "    </tr>\n",
       "  </thead>\n",
       "  <tbody>\n",
       "    <tr>\n",
       "      <th>0</th>\n",
       "      <td>Maruti Swift Dzire VDI</td>\n",
       "      <td>2014</td>\n",
       "      <td>450000</td>\n",
       "      <td>145500</td>\n",
       "      <td>Diesel</td>\n",
       "      <td>Individual</td>\n",
       "      <td>Manual</td>\n",
       "      <td>First Owner</td>\n",
       "      <td>23.4 kmpl</td>\n",
       "      <td>1248 CC</td>\n",
       "      <td>74 bhp</td>\n",
       "      <td>190Nm@ 2000rpm</td>\n",
       "      <td>5.0</td>\n",
       "    </tr>\n",
       "    <tr>\n",
       "      <th>1</th>\n",
       "      <td>Skoda Rapid 1.5 TDI Ambition</td>\n",
       "      <td>2014</td>\n",
       "      <td>370000</td>\n",
       "      <td>120000</td>\n",
       "      <td>Diesel</td>\n",
       "      <td>Individual</td>\n",
       "      <td>Manual</td>\n",
       "      <td>Second Owner</td>\n",
       "      <td>21.14 kmpl</td>\n",
       "      <td>1498 CC</td>\n",
       "      <td>103.52 bhp</td>\n",
       "      <td>250Nm@ 1500-2500rpm</td>\n",
       "      <td>5.0</td>\n",
       "    </tr>\n",
       "    <tr>\n",
       "      <th>2</th>\n",
       "      <td>Honda City 2017-2020 EXi</td>\n",
       "      <td>2006</td>\n",
       "      <td>158000</td>\n",
       "      <td>140000</td>\n",
       "      <td>Petrol</td>\n",
       "      <td>Individual</td>\n",
       "      <td>Manual</td>\n",
       "      <td>Third Owner</td>\n",
       "      <td>17.7 kmpl</td>\n",
       "      <td>1497 CC</td>\n",
       "      <td>78 bhp</td>\n",
       "      <td>12.7@ 2,700(kgm@ rpm)</td>\n",
       "      <td>5.0</td>\n",
       "    </tr>\n",
       "    <tr>\n",
       "      <th>3</th>\n",
       "      <td>Hyundai i20 Sportz Diesel</td>\n",
       "      <td>2010</td>\n",
       "      <td>225000</td>\n",
       "      <td>127000</td>\n",
       "      <td>Diesel</td>\n",
       "      <td>Individual</td>\n",
       "      <td>Manual</td>\n",
       "      <td>First Owner</td>\n",
       "      <td>23.0 kmpl</td>\n",
       "      <td>1396 CC</td>\n",
       "      <td>90 bhp</td>\n",
       "      <td>22.4 kgm at 1750-2750rpm</td>\n",
       "      <td>5.0</td>\n",
       "    </tr>\n",
       "    <tr>\n",
       "      <th>4</th>\n",
       "      <td>Maruti Swift VXI BSIII</td>\n",
       "      <td>2007</td>\n",
       "      <td>130000</td>\n",
       "      <td>120000</td>\n",
       "      <td>Petrol</td>\n",
       "      <td>Individual</td>\n",
       "      <td>Manual</td>\n",
       "      <td>First Owner</td>\n",
       "      <td>16.1 kmpl</td>\n",
       "      <td>1298 CC</td>\n",
       "      <td>88.2 bhp</td>\n",
       "      <td>11.5@ 4,500(kgm@ rpm)</td>\n",
       "      <td>5.0</td>\n",
       "    </tr>\n",
       "  </tbody>\n",
       "</table>\n",
       "</div>"
      ],
      "text/plain": [
       "                           name  year  selling_price  km_driven    fuel  \\\n",
       "0        Maruti Swift Dzire VDI  2014         450000     145500  Diesel   \n",
       "1  Skoda Rapid 1.5 TDI Ambition  2014         370000     120000  Diesel   \n",
       "2      Honda City 2017-2020 EXi  2006         158000     140000  Petrol   \n",
       "3     Hyundai i20 Sportz Diesel  2010         225000     127000  Diesel   \n",
       "4        Maruti Swift VXI BSIII  2007         130000     120000  Petrol   \n",
       "\n",
       "  seller_type transmission         owner     mileage   engine   max_power  \\\n",
       "0  Individual       Manual   First Owner   23.4 kmpl  1248 CC      74 bhp   \n",
       "1  Individual       Manual  Second Owner  21.14 kmpl  1498 CC  103.52 bhp   \n",
       "2  Individual       Manual   Third Owner   17.7 kmpl  1497 CC      78 bhp   \n",
       "3  Individual       Manual   First Owner   23.0 kmpl  1396 CC      90 bhp   \n",
       "4  Individual       Manual   First Owner   16.1 kmpl  1298 CC    88.2 bhp   \n",
       "\n",
       "                     torque  seats  \n",
       "0            190Nm@ 2000rpm    5.0  \n",
       "1       250Nm@ 1500-2500rpm    5.0  \n",
       "2     12.7@ 2,700(kgm@ rpm)    5.0  \n",
       "3  22.4 kgm at 1750-2750rpm    5.0  \n",
       "4     11.5@ 4,500(kgm@ rpm)    5.0  "
      ]
     },
     "execution_count": 41,
     "metadata": {},
     "output_type": "execute_result"
    }
   ],
   "source": [
    "df_cars.head()"
   ]
  },
  {
   "cell_type": "markdown",
   "metadata": {},
   "source": [
    "coding feature \"owner\": First Owner --> 1, Second Owner --> 2, Third owner --> 3, Fourth & Above Owner --> 4, Test Drive Car --> 5: "
   ]
  },
  {
   "cell_type": "code",
   "execution_count": 42,
   "metadata": {},
   "outputs": [],
   "source": [
    "owner_coding = {\n",
    "    'First Owner': 1,\n",
    "    'Second Owner': 2,\n",
    "    'Third Owner': 3,\n",
    "    'Fourth & Above Owner': 4,\n",
    "    'Test Drive Car': 5\n",
    "}\n",
    "\n",
    "df_cars['owner'] = df_cars['owner'].map(owner_coding)"
   ]
  },
  {
   "cell_type": "markdown",
   "metadata": {},
   "source": [
    "Remove rows with fuel values 'CNG' or 'LPG':"
   ]
  },
  {
   "cell_type": "code",
   "execution_count": 43,
   "metadata": {},
   "outputs": [],
   "source": [
    "df_cars = df_cars[df_cars['fuel'].isin(['Petrol', 'Diesel'])]"
   ]
  },
  {
   "cell_type": "markdown",
   "metadata": {},
   "source": [
    "Removing “kmpl” for the feature mileage, and convert the column to numerical type (e.g., float). \n",
    "Removing “CC” for the feature engine,  and convert the column to numerical type (e.g., float)\n",
    "Removing “bph” for the feature engine,  and convert the column to numerical type (e.g., float)\n",
    "for max_power, there is a single value that is equal to 'bph', to get a correct result the value is changed to ' bph'"
   ]
  },
  {
   "cell_type": "code",
   "execution_count": 44,
   "metadata": {},
   "outputs": [],
   "source": [
    "df_cars.mileage = df_cars.mileage.str.split(expand=True)[0].astype(float)"
   ]
  },
  {
   "cell_type": "code",
   "execution_count": 45,
   "metadata": {},
   "outputs": [],
   "source": [
    "df_cars.engine = df_cars.engine.str.split(expand=True)[0].astype(float)"
   ]
  },
  {
   "cell_type": "code",
   "execution_count": 46,
   "metadata": {},
   "outputs": [],
   "source": [
    "df_cars.loc[df_cars['max_power'] == 'bph', 'max_power'] = ' bph'"
   ]
  },
  {
   "cell_type": "code",
   "execution_count": 48,
   "metadata": {},
   "outputs": [],
   "source": [
    "df_cars.max_power = df_cars.max_power.str.split(expand=True)[0].astype(float)"
   ]
  },
  {
   "cell_type": "markdown",
   "metadata": {},
   "source": [
    "Taking only the first word and removing the rest For the feature brand:"
   ]
  },
  {
   "cell_type": "code",
   "execution_count": 49,
   "metadata": {},
   "outputs": [],
   "source": [
    "df_cars.name=df_cars.name.str.split(expand=True)[0]"
   ]
  },
  {
   "cell_type": "markdown",
   "metadata": {},
   "source": [
    "Droping the feature torque:"
   ]
  },
  {
   "cell_type": "code",
   "execution_count": 50,
   "metadata": {},
   "outputs": [],
   "source": [
    "df_cars = df_cars.drop(columns=['torque'])"
   ]
  },
  {
   "cell_type": "markdown",
   "metadata": {},
   "source": [
    "Deleting all samples related to \"Test Drive Cars == 5\":"
   ]
  },
  {
   "cell_type": "code",
   "execution_count": 51,
   "metadata": {},
   "outputs": [],
   "source": [
    "df_cars = df_cars[df_cars['owner'] != 5]"
   ]
  },
  {
   "cell_type": "markdown",
   "metadata": {},
   "source": [
    "Transforming selling price by log transform function since selling price is a big number. y = np.log(df['selling_price']):"
   ]
  },
  {
   "cell_type": "code",
   "execution_count": 52,
   "metadata": {},
   "outputs": [],
   "source": [
    "import numpy as np\n",
    "df_cars['selling_price'] = np.log(df_cars['selling_price'])"
   ]
  },
  {
   "cell_type": "markdown",
   "metadata": {},
   "source": [
    "As it is likely that the producing year of cars to be important for predicting the car's price, a new variable age is created to use as a feuture:"
   ]
  },
  {
   "cell_type": "code",
   "execution_count": 72,
   "metadata": {},
   "outputs": [],
   "source": [
    "df_cars['car_age'] = int(now.strftime(\"%Y\")) - df_cars['year']"
   ]
  },
  {
   "cell_type": "markdown",
   "metadata": {},
   "source": [
    "Final check for loaded car data set structure:"
   ]
  },
  {
   "cell_type": "code",
   "execution_count": 73,
   "metadata": {},
   "outputs": [
    {
     "data": {
      "text/html": [
       "<div>\n",
       "<style scoped>\n",
       "    .dataframe tbody tr th:only-of-type {\n",
       "        vertical-align: middle;\n",
       "    }\n",
       "\n",
       "    .dataframe tbody tr th {\n",
       "        vertical-align: top;\n",
       "    }\n",
       "\n",
       "    .dataframe thead th {\n",
       "        text-align: right;\n",
       "    }\n",
       "</style>\n",
       "<table border=\"1\" class=\"dataframe\">\n",
       "  <thead>\n",
       "    <tr style=\"text-align: right;\">\n",
       "      <th></th>\n",
       "      <th>name</th>\n",
       "      <th>year</th>\n",
       "      <th>selling_price</th>\n",
       "      <th>km_driven</th>\n",
       "      <th>fuel</th>\n",
       "      <th>seller_type</th>\n",
       "      <th>transmission</th>\n",
       "      <th>owner</th>\n",
       "      <th>mileage</th>\n",
       "      <th>engine</th>\n",
       "      <th>max_power</th>\n",
       "      <th>seats</th>\n",
       "      <th>car_age</th>\n",
       "    </tr>\n",
       "  </thead>\n",
       "  <tbody>\n",
       "    <tr>\n",
       "      <th>0</th>\n",
       "      <td>Maruti</td>\n",
       "      <td>2014</td>\n",
       "      <td>13.017003</td>\n",
       "      <td>145500</td>\n",
       "      <td>Diesel</td>\n",
       "      <td>Individual</td>\n",
       "      <td>Manual</td>\n",
       "      <td>1</td>\n",
       "      <td>23.40</td>\n",
       "      <td>1248.0</td>\n",
       "      <td>74.00</td>\n",
       "      <td>5.0</td>\n",
       "      <td>9</td>\n",
       "    </tr>\n",
       "    <tr>\n",
       "      <th>1</th>\n",
       "      <td>Skoda</td>\n",
       "      <td>2014</td>\n",
       "      <td>12.821258</td>\n",
       "      <td>120000</td>\n",
       "      <td>Diesel</td>\n",
       "      <td>Individual</td>\n",
       "      <td>Manual</td>\n",
       "      <td>2</td>\n",
       "      <td>21.14</td>\n",
       "      <td>1498.0</td>\n",
       "      <td>103.52</td>\n",
       "      <td>5.0</td>\n",
       "      <td>9</td>\n",
       "    </tr>\n",
       "    <tr>\n",
       "      <th>2</th>\n",
       "      <td>Honda</td>\n",
       "      <td>2006</td>\n",
       "      <td>11.970350</td>\n",
       "      <td>140000</td>\n",
       "      <td>Petrol</td>\n",
       "      <td>Individual</td>\n",
       "      <td>Manual</td>\n",
       "      <td>3</td>\n",
       "      <td>17.70</td>\n",
       "      <td>1497.0</td>\n",
       "      <td>78.00</td>\n",
       "      <td>5.0</td>\n",
       "      <td>17</td>\n",
       "    </tr>\n",
       "    <tr>\n",
       "      <th>3</th>\n",
       "      <td>Hyundai</td>\n",
       "      <td>2010</td>\n",
       "      <td>12.323856</td>\n",
       "      <td>127000</td>\n",
       "      <td>Diesel</td>\n",
       "      <td>Individual</td>\n",
       "      <td>Manual</td>\n",
       "      <td>1</td>\n",
       "      <td>23.00</td>\n",
       "      <td>1396.0</td>\n",
       "      <td>90.00</td>\n",
       "      <td>5.0</td>\n",
       "      <td>13</td>\n",
       "    </tr>\n",
       "    <tr>\n",
       "      <th>4</th>\n",
       "      <td>Maruti</td>\n",
       "      <td>2007</td>\n",
       "      <td>11.775290</td>\n",
       "      <td>120000</td>\n",
       "      <td>Petrol</td>\n",
       "      <td>Individual</td>\n",
       "      <td>Manual</td>\n",
       "      <td>1</td>\n",
       "      <td>16.10</td>\n",
       "      <td>1298.0</td>\n",
       "      <td>88.20</td>\n",
       "      <td>5.0</td>\n",
       "      <td>16</td>\n",
       "    </tr>\n",
       "  </tbody>\n",
       "</table>\n",
       "</div>"
      ],
      "text/plain": [
       "      name  year  selling_price  km_driven    fuel seller_type transmission  \\\n",
       "0   Maruti  2014      13.017003     145500  Diesel  Individual       Manual   \n",
       "1    Skoda  2014      12.821258     120000  Diesel  Individual       Manual   \n",
       "2    Honda  2006      11.970350     140000  Petrol  Individual       Manual   \n",
       "3  Hyundai  2010      12.323856     127000  Diesel  Individual       Manual   \n",
       "4   Maruti  2007      11.775290     120000  Petrol  Individual       Manual   \n",
       "\n",
       "   owner  mileage  engine  max_power  seats  car_age  \n",
       "0      1    23.40  1248.0      74.00    5.0        9  \n",
       "1      2    21.14  1498.0     103.52    5.0        9  \n",
       "2      3    17.70  1497.0      78.00    5.0       17  \n",
       "3      1    23.00  1396.0      90.00    5.0       13  \n",
       "4      1    16.10  1298.0      88.20    5.0       16  "
      ]
     },
     "execution_count": 73,
     "metadata": {},
     "output_type": "execute_result"
    }
   ],
   "source": [
    "df_cars.head"
   ]
  },
  {
   "cell_type": "code",
   "execution_count": 74,
   "metadata": {},
   "outputs": [
    {
     "name": "stdout",
     "output_type": "stream",
     "text": [
      "<class 'pandas.core.frame.DataFrame'>\n",
      "Index: 8028 entries, 0 to 8127\n",
      "Data columns (total 13 columns):\n",
      " #   Column         Non-Null Count  Dtype  \n",
      "---  ------         --------------  -----  \n",
      " 0   name           8028 non-null   object \n",
      " 1   year           8028 non-null   int64  \n",
      " 2   selling_price  8028 non-null   float64\n",
      " 3   km_driven      8028 non-null   int64  \n",
      " 4   fuel           8028 non-null   object \n",
      " 5   seller_type    8028 non-null   object \n",
      " 6   transmission   8028 non-null   object \n",
      " 7   owner          8028 non-null   int64  \n",
      " 8   mileage        7814 non-null   float64\n",
      " 9   engine         7814 non-null   float64\n",
      " 10  max_power      7820 non-null   float64\n",
      " 11  seats          7814 non-null   float64\n",
      " 12  car_age        8028 non-null   int64  \n",
      "dtypes: float64(5), int64(4), object(4)\n",
      "memory usage: 878.1+ KB\n"
     ]
    }
   ],
   "source": [
    "df_cars.info()"
   ]
  },
  {
   "cell_type": "code",
   "execution_count": 114,
   "metadata": {},
   "outputs": [],
   "source": [
    "import numpy as np\n",
    "import pandas as pd\n",
    "import seaborn as sns\n",
    "import matplotlib.pyplot as plt \n",
    "import warnings\n",
    "warnings.filterwarnings('ignore')"
   ]
  },
  {
   "cell_type": "code",
   "execution_count": 115,
   "metadata": {},
   "outputs": [],
   "source": [
    "import matplotlib"
   ]
  },
  {
   "cell_type": "markdown",
   "metadata": {},
   "source": [
    "# 2. Exploratory Data Analysis"
   ]
  },
  {
   "cell_type": "code",
   "execution_count": 104,
   "metadata": {},
   "outputs": [],
   "source": [
    "desc_num = df_cars.describe(include=['float', 'int'])\n",
    "desc_str = df_cars.describe(include=['object'])"
   ]
  },
  {
   "cell_type": "code",
   "execution_count": 110,
   "metadata": {},
   "outputs": [
    {
     "data": {
      "text/html": [
       "<div>\n",
       "<style scoped>\n",
       "    .dataframe tbody tr th:only-of-type {\n",
       "        vertical-align: middle;\n",
       "    }\n",
       "\n",
       "    .dataframe tbody tr th {\n",
       "        vertical-align: top;\n",
       "    }\n",
       "\n",
       "    .dataframe thead th {\n",
       "        text-align: right;\n",
       "    }\n",
       "</style>\n",
       "<table border=\"1\" class=\"dataframe\">\n",
       "  <thead>\n",
       "    <tr style=\"text-align: right;\">\n",
       "      <th></th>\n",
       "      <th>name</th>\n",
       "      <th>fuel</th>\n",
       "      <th>seller_type</th>\n",
       "      <th>transmission</th>\n",
       "    </tr>\n",
       "  </thead>\n",
       "  <tbody>\n",
       "    <tr>\n",
       "      <th>count</th>\n",
       "      <td>8028</td>\n",
       "      <td>8028</td>\n",
       "      <td>8028</td>\n",
       "      <td>8028</td>\n",
       "    </tr>\n",
       "    <tr>\n",
       "      <th>unique</th>\n",
       "      <td>32</td>\n",
       "      <td>2</td>\n",
       "      <td>3</td>\n",
       "      <td>2</td>\n",
       "    </tr>\n",
       "    <tr>\n",
       "      <th>top</th>\n",
       "      <td>Maruti</td>\n",
       "      <td>Diesel</td>\n",
       "      <td>Individual</td>\n",
       "      <td>Manual</td>\n",
       "    </tr>\n",
       "    <tr>\n",
       "      <th>freq</th>\n",
       "      <td>2378</td>\n",
       "      <td>4401</td>\n",
       "      <td>6673</td>\n",
       "      <td>6982</td>\n",
       "    </tr>\n",
       "  </tbody>\n",
       "</table>\n",
       "</div>"
      ],
      "text/plain": [
       "          name    fuel seller_type transmission\n",
       "count     8028    8028        8028         8028\n",
       "unique      32       2           3            2\n",
       "top     Maruti  Diesel  Individual       Manual\n",
       "freq      2378    4401        6673         6982"
      ]
     },
     "execution_count": 110,
     "metadata": {},
     "output_type": "execute_result"
    }
   ],
   "source": [
    "desc_str"
   ]
  },
  {
   "cell_type": "code",
   "execution_count": 111,
   "metadata": {},
   "outputs": [
    {
     "data": {
      "text/html": [
       "<div>\n",
       "<style scoped>\n",
       "    .dataframe tbody tr th:only-of-type {\n",
       "        vertical-align: middle;\n",
       "    }\n",
       "\n",
       "    .dataframe tbody tr th {\n",
       "        vertical-align: top;\n",
       "    }\n",
       "\n",
       "    .dataframe thead th {\n",
       "        text-align: right;\n",
       "    }\n",
       "</style>\n",
       "<table border=\"1\" class=\"dataframe\">\n",
       "  <thead>\n",
       "    <tr style=\"text-align: right;\">\n",
       "      <th></th>\n",
       "      <th>year</th>\n",
       "      <th>selling_price</th>\n",
       "      <th>km_driven</th>\n",
       "      <th>owner</th>\n",
       "      <th>mileage</th>\n",
       "      <th>engine</th>\n",
       "      <th>max_power</th>\n",
       "      <th>seats</th>\n",
       "      <th>car_age</th>\n",
       "    </tr>\n",
       "  </thead>\n",
       "  <tbody>\n",
       "    <tr>\n",
       "      <th>count</th>\n",
       "      <td>8028.000000</td>\n",
       "      <td>8028.000000</td>\n",
       "      <td>8.028000e+03</td>\n",
       "      <td>8028.000000</td>\n",
       "      <td>7814.000000</td>\n",
       "      <td>7814.000000</td>\n",
       "      <td>7820.000000</td>\n",
       "      <td>7814.000000</td>\n",
       "      <td>8028.000000</td>\n",
       "    </tr>\n",
       "    <tr>\n",
       "      <th>mean</th>\n",
       "      <td>2013.815521</td>\n",
       "      <td>12.979337</td>\n",
       "      <td>6.977314e+04</td>\n",
       "      <td>1.458022</td>\n",
       "      <td>19.391962</td>\n",
       "      <td>1462.914640</td>\n",
       "      <td>91.819726</td>\n",
       "      <td>5.421551</td>\n",
       "      <td>9.184479</td>\n",
       "    </tr>\n",
       "    <tr>\n",
       "      <th>std</th>\n",
       "      <td>4.030836</td>\n",
       "      <td>0.838039</td>\n",
       "      <td>5.664419e+04</td>\n",
       "      <td>0.715283</td>\n",
       "      <td>4.001972</td>\n",
       "      <td>504.759742</td>\n",
       "      <td>35.804513</td>\n",
       "      <td>0.963125</td>\n",
       "      <td>4.030836</td>\n",
       "    </tr>\n",
       "    <tr>\n",
       "      <th>min</th>\n",
       "      <td>1983.000000</td>\n",
       "      <td>10.308919</td>\n",
       "      <td>1.000000e+03</td>\n",
       "      <td>1.000000</td>\n",
       "      <td>0.000000</td>\n",
       "      <td>624.000000</td>\n",
       "      <td>0.000000</td>\n",
       "      <td>2.000000</td>\n",
       "      <td>3.000000</td>\n",
       "    </tr>\n",
       "    <tr>\n",
       "      <th>25%</th>\n",
       "      <td>2011.000000</td>\n",
       "      <td>12.468437</td>\n",
       "      <td>3.500000e+04</td>\n",
       "      <td>1.000000</td>\n",
       "      <td>16.780000</td>\n",
       "      <td>1197.000000</td>\n",
       "      <td>68.850000</td>\n",
       "      <td>5.000000</td>\n",
       "      <td>6.000000</td>\n",
       "    </tr>\n",
       "    <tr>\n",
       "      <th>50%</th>\n",
       "      <td>2015.000000</td>\n",
       "      <td>13.017003</td>\n",
       "      <td>6.000000e+04</td>\n",
       "      <td>1.000000</td>\n",
       "      <td>19.300000</td>\n",
       "      <td>1248.000000</td>\n",
       "      <td>82.400000</td>\n",
       "      <td>5.000000</td>\n",
       "      <td>8.000000</td>\n",
       "    </tr>\n",
       "    <tr>\n",
       "      <th>75%</th>\n",
       "      <td>2017.000000</td>\n",
       "      <td>13.429848</td>\n",
       "      <td>9.800000e+04</td>\n",
       "      <td>2.000000</td>\n",
       "      <td>22.320000</td>\n",
       "      <td>1582.000000</td>\n",
       "      <td>102.000000</td>\n",
       "      <td>5.000000</td>\n",
       "      <td>12.000000</td>\n",
       "    </tr>\n",
       "    <tr>\n",
       "      <th>max</th>\n",
       "      <td>2020.000000</td>\n",
       "      <td>16.118096</td>\n",
       "      <td>2.360457e+06</td>\n",
       "      <td>4.000000</td>\n",
       "      <td>42.000000</td>\n",
       "      <td>3604.000000</td>\n",
       "      <td>400.000000</td>\n",
       "      <td>14.000000</td>\n",
       "      <td>40.000000</td>\n",
       "    </tr>\n",
       "  </tbody>\n",
       "</table>\n",
       "</div>"
      ],
      "text/plain": [
       "              year  selling_price     km_driven        owner      mileage  \\\n",
       "count  8028.000000    8028.000000  8.028000e+03  8028.000000  7814.000000   \n",
       "mean   2013.815521      12.979337  6.977314e+04     1.458022    19.391962   \n",
       "std       4.030836       0.838039  5.664419e+04     0.715283     4.001972   \n",
       "min    1983.000000      10.308919  1.000000e+03     1.000000     0.000000   \n",
       "25%    2011.000000      12.468437  3.500000e+04     1.000000    16.780000   \n",
       "50%    2015.000000      13.017003  6.000000e+04     1.000000    19.300000   \n",
       "75%    2017.000000      13.429848  9.800000e+04     2.000000    22.320000   \n",
       "max    2020.000000      16.118096  2.360457e+06     4.000000    42.000000   \n",
       "\n",
       "            engine    max_power        seats      car_age  \n",
       "count  7814.000000  7820.000000  7814.000000  8028.000000  \n",
       "mean   1462.914640    91.819726     5.421551     9.184479  \n",
       "std     504.759742    35.804513     0.963125     4.030836  \n",
       "min     624.000000     0.000000     2.000000     3.000000  \n",
       "25%    1197.000000    68.850000     5.000000     6.000000  \n",
       "50%    1248.000000    82.400000     5.000000     8.000000  \n",
       "75%    1582.000000   102.000000     5.000000    12.000000  \n",
       "max    3604.000000   400.000000    14.000000    40.000000  "
      ]
     },
     "execution_count": 111,
     "metadata": {},
     "output_type": "execute_result"
    }
   ],
   "source": [
    "desc_num"
   ]
  },
  {
   "cell_type": "code",
   "execution_count": null,
   "metadata": {},
   "outputs": [],
   "source": [
    "sns.countplot(data = df_cars, x = 'fuel')"
   ]
  },
  {
   "cell_type": "code",
   "execution_count": 118,
   "metadata": {},
   "outputs": [
    {
     "name": "stderr",
     "output_type": "stream",
     "text": [
      "/usr/local/lib/python3.11/site-packages/seaborn/axisgrid.py:118: UserWarning: The figure layout has changed to tight\n",
      "  self._figure.tight_layout(*args, **kwargs)\n"
     ]
    },
    {
     "data": {
      "text/plain": [
       "<seaborn.axisgrid.FacetGrid at 0x7fe3c9c1f450>"
      ]
     },
     "execution_count": 118,
     "metadata": {},
     "output_type": "execute_result"
    },
    {
     "data": {
      "image/png": "[encoded data removed]",
      "text/plain": [
       "<Figure size 500x500 with 1 Axes>"
      ]
     },
     "metadata": {},
     "output_type": "display_data"
    }
   ],
   "source": [
    "sns.displot(data = df_cars, x = 'car_age')"
   ]
  }
 ],
 "metadata": {
  "kernelspec": {
   "display_name": "Python 3",
   "language": "python",
   "name": "python3"
  },
  "language_info": {
   "codemirror_mode": {
    "name": "ipython",
    "version": 3
   },
   "file_extension": ".py",
   "mimetype": "text/x-python",
   "name": "python",
   "nbconvert_exporter": "python",
   "pygments_lexer": "ipython3",
   "version": "3.11.5"
  },
  "orig_nbformat": 4
 },
 "nbformat": 4,
 "nbformat_minor": 2
}
